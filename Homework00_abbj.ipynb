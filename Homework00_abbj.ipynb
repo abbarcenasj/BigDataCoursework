{
 "cells": [
  {
   "cell_type": "markdown",
   "metadata": {},
   "source": [
    "# Homework 00: Python Basics\n",
    "### Ana Belen Barcenas J. \n",
    "\n",
    "This is meant as a Python refresher (or crash course)."
   ]
  },
  {
   "cell_type": "markdown",
   "metadata": {},
   "source": [
    "**1**. (25 points) \n",
    "\n",
    "The code below generates the unique Pythagorean triplets $(a, b, c)$ where $a^2 + b^2 = c^2$ using a nested list comprehension for values of $a, b, c \\le 20$.\n",
    "\n",
    "```Python\n",
    "triplets = [(a, b, c) for a in range(1, 21) for b in range(a, 21) for c in range(b, 21) if a**2 + b**2 == c**2]\n",
    "```\n",
    "\n",
    "- Rewrite using a for loop with the same functionality"
   ]
  },
  {
   "cell_type": "code",
   "execution_count": 13,
   "metadata": {},
   "outputs": [
    {
     "data": {
      "text/plain": [
       "[(3, 4, 5), (5, 12, 13), (6, 8, 10), (8, 15, 17), (9, 12, 15), (12, 16, 20)]"
      ]
     },
     "execution_count": 13,
     "metadata": {},
     "output_type": "execute_result"
    }
   ],
   "source": [
    "triplets = [(a, b, c) for a in range(1, 21) for b in range(a, 21) for c in range(b, 21) if a**2 + b**2 == c**2]\n",
    "triplets"
   ]
  },
  {
   "cell_type": "code",
   "execution_count": 2,
   "metadata": {},
   "outputs": [
    {
     "name": "stdout",
     "output_type": "stream",
     "text": [
      "[(3, 4, 5), (6, 8, 10), (5, 12, 13), (9, 12, 15), (8, 15, 17), (12, 16, 20), (15, 20, 25)]\n"
     ]
    }
   ],
   "source": [
    "import math\n",
    "\n",
    "triplets = []\n",
    "for b in range(1, 21):\n",
    "    for a in range(1, b):\n",
    "        c = math.sqrt( a * a + b * b)\n",
    "        if c % 1 == 0:\n",
    "            tup = (a, b, int(c))\n",
    "            triplets.append(tup)\n",
    "            \n",
    "print(triplets)\n"
   ]
  },
  {
   "cell_type": "markdown",
   "metadata": {},
   "source": [
    "**2**. (25 points) \n",
    "\n",
    "The code below generates the sum of numbers meeting some predicate condition.\n",
    "\n",
    "```python\n",
    "def pred(a):\n",
    "    if a % 3 == 0:\n",
    "        return True\n",
    "    else:\n",
    "        return False\n",
    "    \n",
    "s = []\n",
    "for i in range(100):\n",
    "    if pred(i):\n",
    "        s.append(i**2)\n",
    "\n",
    "sum(s)\n",
    "```\n",
    "\n",
    "- Rewrite using `map`, `filter`, `reduce` and a `lambda` functions to achieve the same functionality.  Do not use the `pred` or `sum` functions."
   ]
  },
  {
   "cell_type": "code",
   "execution_count": 5,
   "metadata": {},
   "outputs": [
    {
     "data": {
      "text/plain": [
       "45"
      ]
     },
     "execution_count": 5,
     "metadata": {},
     "output_type": "execute_result"
    }
   ],
   "source": [
    "def pred(a):\n",
    "    if a % 3 == 0:\n",
    "        return True\n",
    "    else:\n",
    "        return False\n",
    "    \n",
    "s = []\n",
    "for i in range(7):\n",
    "    if pred(i):\n",
    "        s.append(i**2)\n",
    "\n",
    "sum(s)"
   ]
  },
  {
   "cell_type": "code",
   "execution_count": 33,
   "metadata": {},
   "outputs": [],
   "source": [
    "from functools import reduce"
   ]
  },
  {
   "cell_type": "code",
   "execution_count": 8,
   "metadata": {},
   "outputs": [
    {
     "name": "stdout",
     "output_type": "stream",
     "text": [
      "[0, 3, 6, 9, 12, 15, 18, 21, 24, 27, 30, 33, 36, 39, 42, 45, 48, 51, 54, 57, 60, 63, 66, 69, 72, 75, 78, 81, 84, 87, 90, 93, 96, 99]\n"
     ]
    }
   ],
   "source": [
    "number_list = range(100)\n",
    "divisible_three = list(filter(lambda x: x % 3 == 0, number_list))\n",
    "print(divisible_three)"
   ]
  },
  {
   "cell_type": "code",
   "execution_count": 48,
   "metadata": {},
   "outputs": [
    {
     "name": "stdout",
     "output_type": "stream",
     "text": [
      "[0, 9, 36, 81, 144, 225, 324, 441, 576, 729, 900, 1089, 1296, 1521, 1764, 2025, 2304, 2601, 2916, 3249, 3600, 3969, 4356, 4761, 5184, 5625, 6084, 6561, 7056, 7569, 8100, 8649, 9216, 9801]\n"
     ]
    }
   ],
   "source": [
    "squared = list(map(lambda x: x**2, divisible_three))\n",
    "print(squared)"
   ]
  },
  {
   "cell_type": "code",
   "execution_count": 50,
   "metadata": {},
   "outputs": [
    {
     "data": {
      "text/plain": [
       "112761"
      ]
     },
     "execution_count": 50,
     "metadata": {},
     "output_type": "execute_result"
    }
   ],
   "source": [
    "reduce((lambda x, y: x + y), squared)"
   ]
  },
  {
   "cell_type": "markdown",
   "metadata": {},
   "source": [
    "All together:"
   ]
  },
  {
   "cell_type": "code",
   "execution_count": 52,
   "metadata": {},
   "outputs": [
    {
     "data": {
      "text/plain": [
       "112761"
      ]
     },
     "execution_count": 52,
     "metadata": {},
     "output_type": "execute_result"
    }
   ],
   "source": [
    "reduce((lambda x, y: x + y), list(map(lambda x: x**2, list(filter(lambda x: x % 3 == 0, number_list)))))"
   ]
  },
  {
   "cell_type": "markdown",
   "metadata": {},
   "source": [
    "**3**. (50 points)\n",
    "\n",
    "- Perform the median polish to calculate just the *residuals* for this [example](https://mgimond.github.io/ES218/Week11a.html) in Python. \n",
    "- Use the matrix `xs` provided\n",
    "- Display the final result after 3 iterations to 1 decimal place and check if it agrees with \n",
    "\n",
    "![img](https://mgimond.github.io/ES218/img/twoway_09.jpg)"
   ]
  },
  {
   "cell_type": "code",
   "execution_count": 9,
   "metadata": {},
   "outputs": [],
   "source": [
    "import numpy as np"
   ]
  },
  {
   "cell_type": "code",
   "execution_count": 24,
   "metadata": {},
   "outputs": [],
   "source": [
    "xs = np.array([\n",
    "    (25.3,32.1,38.8,25.4), \n",
    "    (25.3,29,31,21.1),\n",
    "    (18.2,18.8,19.3,20.3),\n",
    "    (18.3,24.3,15.7,24),\n",
    "    (16.3,19,16.8,17.5)\n",
    "]).T"
   ]
  },
  {
   "cell_type": "code",
   "execution_count": 25,
   "metadata": {},
   "outputs": [
    {
     "data": {
      "text/plain": [
       "array([[25.3, 25.3, 18.2, 18.3, 16.3],\n",
       "       [32.1, 29. , 18.8, 24.3, 19. ],\n",
       "       [38.8, 31. , 19.3, 15.7, 16.8],\n",
       "       [25.4, 21.1, 20.3, 24. , 17.5]])"
      ]
     },
     "execution_count": 25,
     "metadata": {},
     "output_type": "execute_result"
    }
   ],
   "source": [
    "xs"
   ]
  },
  {
   "cell_type": "code",
   "execution_count": 26,
   "metadata": {},
   "outputs": [
    {
     "name": "stdout",
     "output_type": "stream",
     "text": [
      "Residuals after 3 iterations: \n",
      "\n",
      "[[-1.4  0.2  0.  -1.   0.7]\n",
      " [ 1.4 -0.2 -3.4  1.  -0.7]\n",
      " [11.   4.7 -0.  -4.7  0. ]\n",
      " [-3.1 -5.9  0.3  2.9  0. ]]\n"
     ]
    }
   ],
   "source": [
    "for i in [1,2,3]:\n",
    "    med_overall = (np.median(xs))\n",
    "    xs = xs - med_overall\n",
    "    \n",
    "    med_row = np.median(xs, axis=1) #row\n",
    "    xs = (xs.transpose() - med_row).transpose()\n",
    "    med_col = np.median(xs, axis=0) #col\n",
    "    xs = (xs - med_col)\n",
    "print(\"Residuals after 3 iterations: \\n\")\n",
    "print(np.round(xs,1))"
   ]
  },
  {
   "cell_type": "code",
   "execution_count": 19,
   "metadata": {},
   "outputs": [
    {
     "data": {
      "text/plain": [
       "array([[-0.4,  1.2,  0.3,  0. ,  1.1],\n",
       "       [ 0.4, -1.2, -5. ,  0. , -2.2],\n",
       "       [12.1,  5.8,  0.5, -3.6,  0.6],\n",
       "       [-3.1, -5.8, -0.3,  2.9, -0.6]])"
      ]
     },
     "execution_count": 19,
     "metadata": {},
     "output_type": "execute_result"
    }
   ],
   "source": [
    "med_overall = (np.median(xs))\n",
    "xs = xs - med_overall\n",
    "    \n",
    "med_row = np.median(xs, axis=1) #row\n",
    "xs = (xs.transpose() - med_row).transpose()\n",
    "med_col = np.median(xs, axis=0) #col\n",
    "xs = (xs - med_col)\n",
    "\n",
    "np.round(xs,1)"
   ]
  },
  {
   "cell_type": "code",
   "execution_count": 20,
   "metadata": {},
   "outputs": [
    {
     "data": {
      "text/plain": [
       "array([[-1.2,  0.4,  0. , -0.8,  0.7],\n",
       "       [ 1.2, -0.4, -3.8,  0.8, -1.1],\n",
       "       [11.1,  4.9, -0. , -4.6,  0. ],\n",
       "       [-3. , -5.7,  0.3,  3. ,  0. ]])"
      ]
     },
     "execution_count": 20,
     "metadata": {},
     "output_type": "execute_result"
    }
   ],
   "source": [
    "med_overall = (np.median(xs))\n",
    "xs = xs - med_overall\n",
    "\n",
    "med_row = np.median(xs, axis=1) #row\n",
    "xs = (xs.transpose() - med_row).transpose()\n",
    "med_col = np.median(xs, axis=0) #col\n",
    "xs = (xs - med_col)\n",
    "\n",
    "np.round(xs,1)"
   ]
  },
  {
   "cell_type": "code",
   "execution_count": 21,
   "metadata": {},
   "outputs": [
    {
     "data": {
      "text/plain": [
       "array([[-1.4,  0.2,  0. , -1. ,  0.7],\n",
       "       [ 1.4, -0.2, -3.4,  1. , -0.7],\n",
       "       [11. ,  4.7, -0. , -4.7,  0. ],\n",
       "       [-3.1, -5.9,  0.3,  2.9,  0. ]])"
      ]
     },
     "execution_count": 21,
     "metadata": {},
     "output_type": "execute_result"
    }
   ],
   "source": [
    "med_overall = (np.median(xs))\n",
    "xs = xs - med_overall\n",
    "\n",
    "med_row = np.median(xs, axis=1) #row\n",
    "xs = (xs.transpose() - med_row).transpose()\n",
    "med_col = np.median(xs, axis=0) #col\n",
    "xs = (xs - med_col)\n",
    "\n",
    "np.round(xs,1)"
   ]
  },
  {
   "cell_type": "code",
   "execution_count": null,
   "metadata": {},
   "outputs": [],
   "source": []
  },
  {
   "cell_type": "code",
   "execution_count": null,
   "metadata": {},
   "outputs": [],
   "source": []
  }
 ],
 "metadata": {
  "kernelspec": {
   "display_name": "Python 3",
   "language": "python",
   "name": "python3"
  },
  "language_info": {
   "codemirror_mode": {
    "name": "ipython",
    "version": 3
   },
   "file_extension": ".py",
   "mimetype": "text/x-python",
   "name": "python",
   "nbconvert_exporter": "python",
   "pygments_lexer": "ipython3",
   "version": "3.6.4"
  }
 },
 "nbformat": 4,
 "nbformat_minor": 2
}
