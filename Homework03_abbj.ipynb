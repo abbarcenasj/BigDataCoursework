{
 "cells": [
  {
   "cell_type": "markdown",
   "metadata": {},
   "source": [
    "# BIOS 823 - Homework 03\n",
    "\n",
    "### Ana Belen Barcenas J."
   ]
  },
  {
   "cell_type": "code",
   "execution_count": 1,
   "metadata": {},
   "outputs": [],
   "source": [
    "%matplotlib inline"
   ]
  },
  {
   "cell_type": "markdown",
   "metadata": {},
   "source": [
    "**1**. (25 points)\n",
    "\n",
    "We have a surgeon who wants to find rich, obese patients for bariatric surgery. The surgeon purchases 3rd party databases that include the following:\n",
    "\n",
    "- patients - includes height and weight for 100 patients\n",
    "- finances - income of patients\n",
    "- orders - patients who have bought weight loss products before\n",
    "\n",
    "We want to help the surgeon find his potential patients. Her criteria are\n",
    "\n",
    "- patient must be obese with BMI (weight (kg) / (height (m) * height (m))\n",
    "- patient must be rich - income > $100,000\n",
    "- patient must have bought weight loss products previously\n",
    "\n",
    "Find the patient names, bmi and income for those meeting the 3 criteria using\n",
    "\n",
    "- EQUIJOIN (no subqueries)\n",
    "- INNER JOIN (no subqueries)\n",
    "- Subqueries\n",
    "- Common table expressions\n",
    "- Views"
   ]
  },
  {
   "cell_type": "code",
   "execution_count": 1,
   "metadata": {},
   "outputs": [],
   "source": [
    "from faker import Faker\n",
    "import numpy as np\n",
    "import pandas as pd"
   ]
  },
  {
   "cell_type": "code",
   "execution_count": 2,
   "metadata": {},
   "outputs": [],
   "source": [
    "np.random.seed(123)\n",
    "\n",
    "fake = Faker()\n",
    "names = [fake.name() for i in range(100)]\n",
    "hts = np.random.normal(1.7, 0.1, 100)\n",
    "wts = np.random.normal(85, 10, 100)\n",
    "patients = pd.DataFrame(dict(name=names, wt=wts, ht=hts))\n",
    "patients.index.name = 'patient_id'\n",
    "\n",
    "incomes = np.random.np.random.lognormal(11, 1, 100).astype('int')\n",
    "finances = pd.DataFrame(dict(income=incomes, patient_id=np.random.permutation(100)))\n",
    "finances.index.name = 'finance_id'\n",
    "\n",
    "order_total = np.random.randint(100, 100000, 200)\n",
    "patient_ids = np.random.randint(0, 500, 200)\n",
    "orders = pd.DataFrame(dict(sales=order_total, patient_id=patient_ids))\n",
    "orders.index.name = 'order_id'"
   ]
  },
  {
   "cell_type": "code",
   "execution_count": 3,
   "metadata": {},
   "outputs": [
    {
     "data": {
      "text/plain": [
       "'Connected: @None'"
      ]
     },
     "execution_count": 3,
     "metadata": {},
     "output_type": "execute_result"
    }
   ],
   "source": [
    "%load_ext sql\n",
    "%sql sqlite://"
   ]
  },
  {
   "cell_type": "code",
   "execution_count": 4,
   "metadata": {},
   "outputs": [
    {
     "name": "stdout",
     "output_type": "stream",
     "text": [
      " * sqlite://\n",
      "Done.\n",
      " * sqlite://\n",
      "Done.\n",
      " * sqlite://\n",
      "Done.\n",
      " * sqlite://\n",
      " * sqlite://\n",
      " * sqlite://\n"
     ]
    },
    {
     "data": {
      "text/plain": [
       "'Persisted orders'"
      ]
     },
     "execution_count": 4,
     "metadata": {},
     "output_type": "execute_result"
    }
   ],
   "source": [
    "%sql DROP TABLE IF EXISTS patients\n",
    "%sql DROP TABLE IF EXISTS finances\n",
    "%sql DROP TABLE IF EXISTS orders\n",
    "\n",
    "%sql PERSIST patients\n",
    "%sql PERSIST finances\n",
    "%sql PERSIST orders"
   ]
  },
  {
   "cell_type": "markdown",
   "metadata": {},
   "source": [
    "Using EQUIJOIN"
   ]
  },
  {
   "cell_type": "code",
   "execution_count": 6,
   "metadata": {},
   "outputs": [
    {
     "name": "stdout",
     "output_type": "stream",
     "text": [
      " * sqlite://\n",
      "Done.\n"
     ]
    },
    {
     "data": {
      "text/html": [
       "<table>\n",
       "    <tr>\n",
       "        <th>name</th>\n",
       "        <th>bmi</th>\n",
       "        <th>income</th>\n",
       "    </tr>\n",
       "    <tr>\n",
       "        <td>Andrea Johnson</td>\n",
       "        <td>37.000788993952455</td>\n",
       "        <td>119168</td>\n",
       "    </tr>\n",
       "    <tr>\n",
       "        <td>Christine Russo</td>\n",
       "        <td>33.4063128740601</td>\n",
       "        <td>244842</td>\n",
       "    </tr>\n",
       "</table>"
      ],
      "text/plain": [
       "[('Andrea Johnson', 37.000788993952455, 119168),\n",
       " ('Christine Russo', 33.4063128740601, 244842)]"
      ]
     },
     "execution_count": 6,
     "metadata": {},
     "output_type": "execute_result"
    }
   ],
   "source": [
    "%%sql\n",
    "\n",
    "SELECT DISTINCT p.name, (wt/(ht*ht)) as bmi, income\n",
    "FROM patients as p,  finances as f, orders as o\n",
    "WHERE p.patient_id=f.patient_id and p.patient_id=o.patient_id \n",
    "and f.income>100000 \n",
    "and (wt/(ht*ht))>=30 \n",
    "and sales>0"
   ]
  },
  {
   "cell_type": "markdown",
   "metadata": {},
   "source": [
    "Using INNER JOIN"
   ]
  },
  {
   "cell_type": "code",
   "execution_count": 7,
   "metadata": {},
   "outputs": [
    {
     "name": "stdout",
     "output_type": "stream",
     "text": [
      " * sqlite://\n",
      "Done.\n"
     ]
    },
    {
     "data": {
      "text/html": [
       "<table>\n",
       "    <tr>\n",
       "        <th>name</th>\n",
       "        <th>bmi</th>\n",
       "        <th>income</th>\n",
       "    </tr>\n",
       "    <tr>\n",
       "        <td>Andrea Johnson</td>\n",
       "        <td>37.000788993952455</td>\n",
       "        <td>119168</td>\n",
       "    </tr>\n",
       "    <tr>\n",
       "        <td>Christine Russo</td>\n",
       "        <td>33.4063128740601</td>\n",
       "        <td>244842</td>\n",
       "    </tr>\n",
       "</table>"
      ],
      "text/plain": [
       "[('Andrea Johnson', 37.000788993952455, 119168),\n",
       " ('Christine Russo', 33.4063128740601, 244842)]"
      ]
     },
     "execution_count": 7,
     "metadata": {},
     "output_type": "execute_result"
    }
   ],
   "source": [
    "%%sql\n",
    "\n",
    "SELECT DISTINCT name, (wt/(ht*ht)) as bmi, income \n",
    "FROM (patients p \n",
    "      INNER JOIN orders o ON p.patient_id=o.patient_id\n",
    "      INNER JOIN finances f ON p.patient_id=f.patient_id)\n",
    "WHERE (wt/(ht*ht))>=30 and income>100000"
   ]
  },
  {
   "cell_type": "markdown",
   "metadata": {},
   "source": [
    "Using subtable."
   ]
  },
  {
   "cell_type": "code",
   "execution_count": 8,
   "metadata": {},
   "outputs": [
    {
     "name": "stdout",
     "output_type": "stream",
     "text": [
      " * sqlite://\n",
      "Done.\n"
     ]
    },
    {
     "data": {
      "text/html": [
       "<table>\n",
       "    <tr>\n",
       "        <th>name</th>\n",
       "        <th>bmi</th>\n",
       "        <th>income</th>\n",
       "    </tr>\n",
       "    <tr>\n",
       "        <td>Andrea Johnson</td>\n",
       "        <td>37.000788993952455</td>\n",
       "        <td>119168</td>\n",
       "    </tr>\n",
       "    <tr>\n",
       "        <td>Christine Russo</td>\n",
       "        <td>33.4063128740601</td>\n",
       "        <td>244842</td>\n",
       "    </tr>\n",
       "</table>"
      ],
      "text/plain": [
       "[('Andrea Johnson', 37.000788993952455, 119168),\n",
       " ('Christine Russo', 33.4063128740601, 244842)]"
      ]
     },
     "execution_count": 8,
     "metadata": {},
     "output_type": "execute_result"
    }
   ],
   "source": [
    "%%sql\n",
    "\n",
    "SELECT DISTINCT p.name, (wt/(ht*ht)) as bmi, f.income\n",
    "FROM patients p, finances f \n",
    "WHERE \n",
    "\n",
    "bmi>30 AND income>100000 AND p.patient_id=f.patient_id\n",
    "\n",
    "AND p.patient_id in\n",
    "(\n",
    "    SELECT distinct patient_id\n",
    "    FROM orders\n",
    ")  \n",
    "\n"
   ]
  },
  {
   "cell_type": "markdown",
   "metadata": {},
   "source": [
    "Using CTE"
   ]
  },
  {
   "cell_type": "code",
   "execution_count": 9,
   "metadata": {},
   "outputs": [
    {
     "name": "stdout",
     "output_type": "stream",
     "text": [
      " * sqlite://\n",
      "Done.\n"
     ]
    },
    {
     "data": {
      "text/html": [
       "<table>\n",
       "    <tr>\n",
       "        <th>name</th>\n",
       "        <th>bmi</th>\n",
       "        <th>income</th>\n",
       "    </tr>\n",
       "    <tr>\n",
       "        <td>Christine Russo</td>\n",
       "        <td>33.4063128740601</td>\n",
       "        <td>244842</td>\n",
       "    </tr>\n",
       "    <tr>\n",
       "        <td>Andrea Johnson</td>\n",
       "        <td>37.000788993952455</td>\n",
       "        <td>119168</td>\n",
       "    </tr>\n",
       "</table>"
      ],
      "text/plain": [
       "[('Christine Russo', 33.4063128740601, 244842),\n",
       " ('Andrea Johnson', 37.000788993952455, 119168)]"
      ]
     },
     "execution_count": 9,
     "metadata": {},
     "output_type": "execute_result"
    }
   ],
   "source": [
    "%%sql\n",
    "\n",
    "WITH common AS (\n",
    "    SELECT DISTINCT\n",
    "        patients.name,\n",
    "        (patients.wt/(patients.ht*patients.ht)) as bmi,\n",
    "        finances.income\n",
    "    \n",
    "    FROM \n",
    "        orders,\n",
    "        patients,\n",
    "        finances\n",
    "    \n",
    "    WHERE patients.patient_id IN\n",
    "        (SELECT DISTINCT patient_id FROM orders)\n",
    "    AND patients.patient_id=finances.patient_id\n",
    ")\n",
    "\n",
    "SELECT DISTINCT *\n",
    "FROM common\n",
    "WHERE bmi>30 and income>100000"
   ]
  },
  {
   "cell_type": "markdown",
   "metadata": {},
   "source": [
    "Using views."
   ]
  },
  {
   "cell_type": "code",
   "execution_count": 12,
   "metadata": {},
   "outputs": [
    {
     "name": "stdout",
     "output_type": "stream",
     "text": [
      " * sqlite://\n",
      "Done.\n"
     ]
    },
    {
     "data": {
      "text/plain": [
       "[]"
      ]
     },
     "execution_count": 12,
     "metadata": {},
     "output_type": "execute_result"
    }
   ],
   "source": [
    "%%sql\n",
    "\n",
    "CREATE VIEW view_common_ AS \n",
    "    SELECT DISTINCT\n",
    "        patients.name,\n",
    "        (patients.wt/(patients.ht*patients.ht)) as bmi,\n",
    "        finances.income\n",
    "    FROM \n",
    "        orders,\n",
    "        patients,\n",
    "        finances\n",
    "    \n",
    "    WHERE patients.patient_id IN\n",
    "        (SELECT DISTINCT patient_id FROM orders)\n",
    "        \n",
    "    AND patients.patient_id=finances.patient_id\n"
   ]
  },
  {
   "cell_type": "code",
   "execution_count": 13,
   "metadata": {},
   "outputs": [
    {
     "name": "stdout",
     "output_type": "stream",
     "text": [
      " * sqlite://\n",
      "Done.\n"
     ]
    },
    {
     "data": {
      "text/html": [
       "<table>\n",
       "    <tr>\n",
       "        <th>name</th>\n",
       "        <th>bmi</th>\n",
       "        <th>income</th>\n",
       "    </tr>\n",
       "    <tr>\n",
       "        <td>Christine Russo</td>\n",
       "        <td>33.4063128740601</td>\n",
       "        <td>244842</td>\n",
       "    </tr>\n",
       "    <tr>\n",
       "        <td>Andrea Johnson</td>\n",
       "        <td>37.000788993952455</td>\n",
       "        <td>119168</td>\n",
       "    </tr>\n",
       "</table>"
      ],
      "text/plain": [
       "[('Christine Russo', 33.4063128740601, 244842),\n",
       " ('Andrea Johnson', 37.000788993952455, 119168)]"
      ]
     },
     "execution_count": 13,
     "metadata": {},
     "output_type": "execute_result"
    }
   ],
   "source": [
    "%%sql\n",
    "\n",
    "SELECT DISTINCT *\n",
    "FROM view_common_\n",
    "WHERE bmi>30 and income>100000"
   ]
  },
  {
   "cell_type": "markdown",
   "metadata": {},
   "source": [
    "**2**. (25 points)\n",
    "\n",
    "Use windows functions in SQL to achieve the same effect as these `pandas` operations.`m"
   ]
  },
  {
   "cell_type": "code",
   "execution_count": 14,
   "metadata": {},
   "outputs": [],
   "source": [
    "url = 'https://raw.githubusercontent.com/statsmodels/statsmodels/master/statsmodels/datasets/nile/nile.csv'\n",
    "nile = pd.read_csv(url, index_col=0)"
   ]
  },
  {
   "cell_type": "code",
   "execution_count": 15,
   "metadata": {},
   "outputs": [
    {
     "name": "stdout",
     "output_type": "stream",
     "text": [
      " * sqlite://\n"
     ]
    },
    {
     "data": {
      "text/plain": [
       "'Persisted nile'"
      ]
     },
     "execution_count": 15,
     "metadata": {},
     "output_type": "execute_result"
    }
   ],
   "source": [
    "%sql PERSIST nile"
   ]
  },
  {
   "cell_type": "code",
   "execution_count": 16,
   "metadata": {},
   "outputs": [
    {
     "data": {
      "text/plain": [
       "(100, 1)"
      ]
     },
     "execution_count": 16,
     "metadata": {},
     "output_type": "execute_result"
    }
   ],
   "source": [
    "nile.shape"
   ]
  },
  {
   "cell_type": "code",
   "execution_count": 17,
   "metadata": {},
   "outputs": [
    {
     "data": {
      "text/html": [
       "<div>\n",
       "<style scoped>\n",
       "    .dataframe tbody tr th:only-of-type {\n",
       "        vertical-align: middle;\n",
       "    }\n",
       "\n",
       "    .dataframe tbody tr th {\n",
       "        vertical-align: top;\n",
       "    }\n",
       "\n",
       "    .dataframe thead th {\n",
       "        text-align: right;\n",
       "    }\n",
       "</style>\n",
       "<table border=\"1\" class=\"dataframe\">\n",
       "  <thead>\n",
       "    <tr style=\"text-align: right;\">\n",
       "      <th></th>\n",
       "      <th>volume</th>\n",
       "    </tr>\n",
       "    <tr>\n",
       "      <th>year</th>\n",
       "      <th></th>\n",
       "    </tr>\n",
       "  </thead>\n",
       "  <tbody>\n",
       "    <tr>\n",
       "      <td>1871</td>\n",
       "      <td>1120</td>\n",
       "    </tr>\n",
       "    <tr>\n",
       "      <td>1872</td>\n",
       "      <td>1160</td>\n",
       "    </tr>\n",
       "    <tr>\n",
       "      <td>1873</td>\n",
       "      <td>963</td>\n",
       "    </tr>\n",
       "    <tr>\n",
       "      <td>1874</td>\n",
       "      <td>1210</td>\n",
       "    </tr>\n",
       "    <tr>\n",
       "      <td>1875</td>\n",
       "      <td>1160</td>\n",
       "    </tr>\n",
       "    <tr>\n",
       "      <td>1876</td>\n",
       "      <td>1160</td>\n",
       "    </tr>\n",
       "    <tr>\n",
       "      <td>1877</td>\n",
       "      <td>813</td>\n",
       "    </tr>\n",
       "    <tr>\n",
       "      <td>1878</td>\n",
       "      <td>1230</td>\n",
       "    </tr>\n",
       "    <tr>\n",
       "      <td>1879</td>\n",
       "      <td>1370</td>\n",
       "    </tr>\n",
       "    <tr>\n",
       "      <td>1880</td>\n",
       "      <td>1140</td>\n",
       "    </tr>\n",
       "  </tbody>\n",
       "</table>\n",
       "</div>"
      ],
      "text/plain": [
       "      volume\n",
       "year        \n",
       "1871    1120\n",
       "1872    1160\n",
       "1873     963\n",
       "1874    1210\n",
       "1875    1160\n",
       "1876    1160\n",
       "1877     813\n",
       "1878    1230\n",
       "1879    1370\n",
       "1880    1140"
      ]
     },
     "execution_count": 17,
     "metadata": {},
     "output_type": "execute_result"
    }
   ],
   "source": [
    "nile.head(10)"
   ]
  },
  {
   "cell_type": "code",
   "execution_count": 18,
   "metadata": {},
   "outputs": [
    {
     "data": {
      "text/html": [
       "<div>\n",
       "<style scoped>\n",
       "    .dataframe tbody tr th:only-of-type {\n",
       "        vertical-align: middle;\n",
       "    }\n",
       "\n",
       "    .dataframe tbody tr th {\n",
       "        vertical-align: top;\n",
       "    }\n",
       "\n",
       "    .dataframe thead th {\n",
       "        text-align: right;\n",
       "    }\n",
       "</style>\n",
       "<table border=\"1\" class=\"dataframe\">\n",
       "  <thead>\n",
       "    <tr style=\"text-align: right;\">\n",
       "      <th></th>\n",
       "      <th>volume</th>\n",
       "    </tr>\n",
       "    <tr>\n",
       "      <th>year</th>\n",
       "      <th></th>\n",
       "    </tr>\n",
       "  </thead>\n",
       "  <tbody>\n",
       "    <tr>\n",
       "      <td>1871</td>\n",
       "      <td>1120.00</td>\n",
       "    </tr>\n",
       "    <tr>\n",
       "      <td>1872</td>\n",
       "      <td>1140.00</td>\n",
       "    </tr>\n",
       "    <tr>\n",
       "      <td>1873</td>\n",
       "      <td>1081.00</td>\n",
       "    </tr>\n",
       "    <tr>\n",
       "      <td>1874</td>\n",
       "      <td>1113.25</td>\n",
       "    </tr>\n",
       "    <tr>\n",
       "      <td>1875</td>\n",
       "      <td>1122.60</td>\n",
       "    </tr>\n",
       "    <tr>\n",
       "      <td>1876</td>\n",
       "      <td>1130.60</td>\n",
       "    </tr>\n",
       "  </tbody>\n",
       "</table>\n",
       "</div>"
      ],
      "text/plain": [
       "       volume\n",
       "year         \n",
       "1871  1120.00\n",
       "1872  1140.00\n",
       "1873  1081.00\n",
       "1874  1113.25\n",
       "1875  1122.60\n",
       "1876  1130.60"
      ]
     },
     "execution_count": 18,
     "metadata": {},
     "output_type": "execute_result"
    }
   ],
   "source": [
    "a1 = nile.rolling(5, min_periods=1).mean()\n",
    "a1.head(6)"
   ]
  },
  {
   "cell_type": "code",
   "execution_count": 19,
   "metadata": {},
   "outputs": [
    {
     "data": {
      "image/png": "[encoded data removed]",
      "text/plain": [
       "<Figure size 432x288 with 1 Axes>"
      ]
     },
     "metadata": {},
     "output_type": "display_data"
    }
   ],
   "source": [
    "ax = nile.plot()\n",
    "a1.plot(color='red', ax=ax)\n",
    "pass"
   ]
  },
  {
   "cell_type": "markdown",
   "metadata": {},
   "source": [
    "SQL solution here"
   ]
  },
  {
   "cell_type": "code",
   "execution_count": 20,
   "metadata": {},
   "outputs": [
    {
     "name": "stdout",
     "output_type": "stream",
     "text": [
      " * sqlite://\n",
      "Done.\n"
     ]
    },
    {
     "data": {
      "text/html": [
       "<table>\n",
       "    <tr>\n",
       "        <th>year</th>\n",
       "        <th>volume_avg</th>\n",
       "    </tr>\n",
       "    <tr>\n",
       "        <td>1871</td>\n",
       "        <td>1120.0</td>\n",
       "    </tr>\n",
       "    <tr>\n",
       "        <td>1872</td>\n",
       "        <td>1140.0</td>\n",
       "    </tr>\n",
       "    <tr>\n",
       "        <td>1873</td>\n",
       "        <td>1081.0</td>\n",
       "    </tr>\n",
       "    <tr>\n",
       "        <td>1874</td>\n",
       "        <td>1113.25</td>\n",
       "    </tr>\n",
       "    <tr>\n",
       "        <td>1875</td>\n",
       "        <td>1122.6</td>\n",
       "    </tr>\n",
       "    <tr>\n",
       "        <td>1876</td>\n",
       "        <td>1130.6</td>\n",
       "    </tr>\n",
       "</table>"
      ],
      "text/plain": [
       "[(1871, 1120.0),\n",
       " (1872, 1140.0),\n",
       " (1873, 1081.0),\n",
       " (1874, 1113.25),\n",
       " (1875, 1122.6),\n",
       " (1876, 1130.6)]"
      ]
     },
     "execution_count": 20,
     "metadata": {},
     "output_type": "execute_result"
    }
   ],
   "source": [
    "%%sql\n",
    "\n",
    "SELECT year, AVG(volume) OVER win AS volume_avg\n",
    "FROM nile\n",
    "WINDOW win AS (\n",
    "    ORDER BY year ASC\n",
    "    ROWS BETWEEN 4 PRECEDING AND 0 FOLLOWING)\n",
    "LIMIT 6"
   ]
  },
  {
   "cell_type": "code",
   "execution_count": 21,
   "metadata": {},
   "outputs": [
    {
     "data": {
      "text/html": [
       "<div>\n",
       "<style scoped>\n",
       "    .dataframe tbody tr th:only-of-type {\n",
       "        vertical-align: middle;\n",
       "    }\n",
       "\n",
       "    .dataframe tbody tr th {\n",
       "        vertical-align: top;\n",
       "    }\n",
       "\n",
       "    .dataframe thead th {\n",
       "        text-align: right;\n",
       "    }\n",
       "</style>\n",
       "<table border=\"1\" class=\"dataframe\">\n",
       "  <thead>\n",
       "    <tr style=\"text-align: right;\">\n",
       "      <th></th>\n",
       "      <th>volume</th>\n",
       "    </tr>\n",
       "    <tr>\n",
       "      <th>year</th>\n",
       "      <th></th>\n",
       "    </tr>\n",
       "  </thead>\n",
       "  <tbody>\n",
       "    <tr>\n",
       "      <td>1871</td>\n",
       "      <td>1081.00</td>\n",
       "    </tr>\n",
       "    <tr>\n",
       "      <td>1872</td>\n",
       "      <td>1113.25</td>\n",
       "    </tr>\n",
       "    <tr>\n",
       "      <td>1873</td>\n",
       "      <td>1122.60</td>\n",
       "    </tr>\n",
       "    <tr>\n",
       "      <td>1874</td>\n",
       "      <td>1130.60</td>\n",
       "    </tr>\n",
       "    <tr>\n",
       "      <td>1875</td>\n",
       "      <td>1061.20</td>\n",
       "    </tr>\n",
       "    <tr>\n",
       "      <td>1876</td>\n",
       "      <td>1114.60</td>\n",
       "    </tr>\n",
       "  </tbody>\n",
       "</table>\n",
       "</div>"
      ],
      "text/plain": [
       "       volume\n",
       "year         \n",
       "1871  1081.00\n",
       "1872  1113.25\n",
       "1873  1122.60\n",
       "1874  1130.60\n",
       "1875  1061.20\n",
       "1876  1114.60"
      ]
     },
     "execution_count": 21,
     "metadata": {},
     "output_type": "execute_result"
    }
   ],
   "source": [
    "a2 = nile.rolling(5, center=True, min_periods=1).mean()\n",
    "a2.head(6)"
   ]
  },
  {
   "cell_type": "code",
   "execution_count": 22,
   "metadata": {},
   "outputs": [
    {
     "data": {
      "image/png": "[encoded data removed]",
      "text/plain": [
       "<Figure size 432x288 with 1 Axes>"
      ]
     },
     "metadata": {},
     "output_type": "display_data"
    }
   ],
   "source": [
    "ax = nile.plot()\n",
    "a2.plot(color='red', ax=ax)\n",
    "pass"
   ]
  },
  {
   "cell_type": "markdown",
   "metadata": {},
   "source": [
    "SQL solution here"
   ]
  },
  {
   "cell_type": "code",
   "execution_count": 23,
   "metadata": {},
   "outputs": [
    {
     "name": "stdout",
     "output_type": "stream",
     "text": [
      " * sqlite://\n",
      "Done.\n"
     ]
    },
    {
     "data": {
      "text/html": [
       "<table>\n",
       "    <tr>\n",
       "        <th>year</th>\n",
       "        <th>volume_avg</th>\n",
       "    </tr>\n",
       "    <tr>\n",
       "        <td>1871</td>\n",
       "        <td>1081.0</td>\n",
       "    </tr>\n",
       "    <tr>\n",
       "        <td>1872</td>\n",
       "        <td>1113.25</td>\n",
       "    </tr>\n",
       "    <tr>\n",
       "        <td>1873</td>\n",
       "        <td>1122.6</td>\n",
       "    </tr>\n",
       "    <tr>\n",
       "        <td>1874</td>\n",
       "        <td>1130.6</td>\n",
       "    </tr>\n",
       "    <tr>\n",
       "        <td>1875</td>\n",
       "        <td>1061.2</td>\n",
       "    </tr>\n",
       "    <tr>\n",
       "        <td>1876</td>\n",
       "        <td>1114.6</td>\n",
       "    </tr>\n",
       "</table>"
      ],
      "text/plain": [
       "[(1871, 1081.0),\n",
       " (1872, 1113.25),\n",
       " (1873, 1122.6),\n",
       " (1874, 1130.6),\n",
       " (1875, 1061.2),\n",
       " (1876, 1114.6)]"
      ]
     },
     "execution_count": 23,
     "metadata": {},
     "output_type": "execute_result"
    }
   ],
   "source": [
    "%%sql\n",
    "\n",
    "SELECT year, AVG(volume) OVER win AS volume_avg\n",
    "FROM nile\n",
    "WINDOW win AS (\n",
    "    ORDER BY year ASC\n",
    "    ROWS BETWEEN 2 PRECEDING AND 2 FOLLOWING)\n",
    "LIMIT 6"
   ]
  },
  {
   "cell_type": "code",
   "execution_count": 24,
   "metadata": {},
   "outputs": [
    {
     "data": {
      "text/html": [
       "<div>\n",
       "<style scoped>\n",
       "    .dataframe tbody tr th:only-of-type {\n",
       "        vertical-align: middle;\n",
       "    }\n",
       "\n",
       "    .dataframe tbody tr th {\n",
       "        vertical-align: top;\n",
       "    }\n",
       "\n",
       "    .dataframe thead th {\n",
       "        text-align: right;\n",
       "    }\n",
       "</style>\n",
       "<table border=\"1\" class=\"dataframe\">\n",
       "  <thead>\n",
       "    <tr style=\"text-align: right;\">\n",
       "      <th></th>\n",
       "      <th>volume</th>\n",
       "    </tr>\n",
       "    <tr>\n",
       "      <th>year</th>\n",
       "      <th></th>\n",
       "    </tr>\n",
       "  </thead>\n",
       "  <tbody>\n",
       "    <tr>\n",
       "      <td>1871</td>\n",
       "      <td>1120.000000</td>\n",
       "    </tr>\n",
       "    <tr>\n",
       "      <td>1872</td>\n",
       "      <td>1140.000000</td>\n",
       "    </tr>\n",
       "    <tr>\n",
       "      <td>1873</td>\n",
       "      <td>1081.000000</td>\n",
       "    </tr>\n",
       "    <tr>\n",
       "      <td>1874</td>\n",
       "      <td>1113.250000</td>\n",
       "    </tr>\n",
       "    <tr>\n",
       "      <td>1875</td>\n",
       "      <td>1122.600000</td>\n",
       "    </tr>\n",
       "    <tr>\n",
       "      <td>1876</td>\n",
       "      <td>1128.833333</td>\n",
       "    </tr>\n",
       "  </tbody>\n",
       "</table>\n",
       "</div>"
      ],
      "text/plain": [
       "           volume\n",
       "year             \n",
       "1871  1120.000000\n",
       "1872  1140.000000\n",
       "1873  1081.000000\n",
       "1874  1113.250000\n",
       "1875  1122.600000\n",
       "1876  1128.833333"
      ]
     },
     "execution_count": 24,
     "metadata": {},
     "output_type": "execute_result"
    }
   ],
   "source": [
    "a3 = nile.expanding().mean()\n",
    "a3.head(6)"
   ]
  },
  {
   "cell_type": "code",
   "execution_count": 25,
   "metadata": {},
   "outputs": [
    {
     "data": {
      "image/png": "[encoded data removed]",
      "text/plain": [
       "<Figure size 432x288 with 1 Axes>"
      ]
     },
     "metadata": {},
     "output_type": "display_data"
    }
   ],
   "source": [
    "ax = nile.plot()\n",
    "a3.plot(color='red', ax=ax)\n",
    "pass"
   ]
  },
  {
   "cell_type": "markdown",
   "metadata": {},
   "source": [
    "SQL solution here"
   ]
  },
  {
   "cell_type": "code",
   "execution_count": 26,
   "metadata": {},
   "outputs": [
    {
     "name": "stdout",
     "output_type": "stream",
     "text": [
      " * sqlite://\n",
      "Done.\n"
     ]
    },
    {
     "data": {
      "text/html": [
       "<table>\n",
       "    <tr>\n",
       "        <th>year</th>\n",
       "        <th>volume_avg</th>\n",
       "    </tr>\n",
       "    <tr>\n",
       "        <td>1871</td>\n",
       "        <td>1120.0</td>\n",
       "    </tr>\n",
       "    <tr>\n",
       "        <td>1872</td>\n",
       "        <td>1140.0</td>\n",
       "    </tr>\n",
       "    <tr>\n",
       "        <td>1873</td>\n",
       "        <td>1081.0</td>\n",
       "    </tr>\n",
       "    <tr>\n",
       "        <td>1874</td>\n",
       "        <td>1113.25</td>\n",
       "    </tr>\n",
       "    <tr>\n",
       "        <td>1875</td>\n",
       "        <td>1122.6</td>\n",
       "    </tr>\n",
       "    <tr>\n",
       "        <td>1876</td>\n",
       "        <td>1128.8333333333333</td>\n",
       "    </tr>\n",
       "</table>"
      ],
      "text/plain": [
       "[(1871, 1120.0),\n",
       " (1872, 1140.0),\n",
       " (1873, 1081.0),\n",
       " (1874, 1113.25),\n",
       " (1875, 1122.6),\n",
       " (1876, 1128.8333333333333)]"
      ]
     },
     "execution_count": 26,
     "metadata": {},
     "output_type": "execute_result"
    }
   ],
   "source": [
    "%%sql\n",
    "\n",
    "SELECT year, AVG(volume) OVER win AS volume_avg\n",
    "FROM nile\n",
    "WINDOW win AS (\n",
    "    ORDER BY year ASC\n",
    "    ROWS BETWEEN UNBOUNDED PRECEDING AND CURRENT ROW)\n",
    "LIMIT 6"
   ]
  },
  {
   "cell_type": "code",
   "execution_count": 27,
   "metadata": {},
   "outputs": [
    {
     "data": {
      "text/html": [
       "<div>\n",
       "<style scoped>\n",
       "    .dataframe tbody tr th:only-of-type {\n",
       "        vertical-align: middle;\n",
       "    }\n",
       "\n",
       "    .dataframe tbody tr th {\n",
       "        vertical-align: top;\n",
       "    }\n",
       "\n",
       "    .dataframe thead th {\n",
       "        text-align: right;\n",
       "    }\n",
       "</style>\n",
       "<table border=\"1\" class=\"dataframe\">\n",
       "  <thead>\n",
       "    <tr style=\"text-align: right;\">\n",
       "      <th></th>\n",
       "      <th>volume</th>\n",
       "    </tr>\n",
       "    <tr>\n",
       "      <th>year</th>\n",
       "      <th></th>\n",
       "    </tr>\n",
       "  </thead>\n",
       "  <tbody>\n",
       "    <tr>\n",
       "      <td>1913</td>\n",
       "      <td>1.0</td>\n",
       "    </tr>\n",
       "    <tr>\n",
       "      <td>1941</td>\n",
       "      <td>2.0</td>\n",
       "    </tr>\n",
       "    <tr>\n",
       "      <td>1940</td>\n",
       "      <td>3.0</td>\n",
       "    </tr>\n",
       "    <tr>\n",
       "      <td>1907</td>\n",
       "      <td>4.0</td>\n",
       "    </tr>\n",
       "    <tr>\n",
       "      <td>1902</td>\n",
       "      <td>5.0</td>\n",
       "    </tr>\n",
       "    <tr>\n",
       "      <td>1925</td>\n",
       "      <td>6.0</td>\n",
       "    </tr>\n",
       "  </tbody>\n",
       "</table>\n",
       "</div>"
      ],
      "text/plain": [
       "      volume\n",
       "year        \n",
       "1913     1.0\n",
       "1941     2.0\n",
       "1940     3.0\n",
       "1907     4.0\n",
       "1902     5.0\n",
       "1925     6.0"
      ]
     },
     "execution_count": 27,
     "metadata": {},
     "output_type": "execute_result"
    }
   ],
   "source": [
    "a4 = nile.rank(method='dense').sort_values('volume')\n",
    "a4.head(6)"
   ]
  },
  {
   "cell_type": "markdown",
   "metadata": {},
   "source": [
    "SQL solution here"
   ]
  },
  {
   "cell_type": "code",
   "execution_count": 28,
   "metadata": {},
   "outputs": [
    {
     "name": "stdout",
     "output_type": "stream",
     "text": [
      " * sqlite://\n",
      "Done.\n"
     ]
    },
    {
     "data": {
      "text/html": [
       "<table>\n",
       "    <tr>\n",
       "        <th>year</th>\n",
       "        <th>volume_rank</th>\n",
       "    </tr>\n",
       "    <tr>\n",
       "        <td>1913</td>\n",
       "        <td>1</td>\n",
       "    </tr>\n",
       "    <tr>\n",
       "        <td>1941</td>\n",
       "        <td>2</td>\n",
       "    </tr>\n",
       "    <tr>\n",
       "        <td>1940</td>\n",
       "        <td>3</td>\n",
       "    </tr>\n",
       "    <tr>\n",
       "        <td>1907</td>\n",
       "        <td>4</td>\n",
       "    </tr>\n",
       "    <tr>\n",
       "        <td>1902</td>\n",
       "        <td>5</td>\n",
       "    </tr>\n",
       "    <tr>\n",
       "        <td>1925</td>\n",
       "        <td>6</td>\n",
       "    </tr>\n",
       "</table>"
      ],
      "text/plain": [
       "[(1913, 1), (1941, 2), (1940, 3), (1907, 4), (1902, 5), (1925, 6)]"
      ]
     },
     "execution_count": 28,
     "metadata": {},
     "output_type": "execute_result"
    }
   ],
   "source": [
    "%%sql\n",
    "\n",
    "SELECT year, RANK() OVER win AS volume_rank\n",
    "FROM nile\n",
    "WINDOW win AS (\n",
    "    ORDER BY volume)\n",
    "LIMIT 6"
   ]
  },
  {
   "cell_type": "code",
   "execution_count": 29,
   "metadata": {},
   "outputs": [
    {
     "data": {
      "text/plain": [
       "array([0.  , 0.25, 0.5 , 0.75, 1.  ])"
      ]
     },
     "execution_count": 29,
     "metadata": {},
     "output_type": "execute_result"
    }
   ],
   "source": [
    "np.linspace(0,1,5)"
   ]
  },
  {
   "cell_type": "code",
   "execution_count": 30,
   "metadata": {},
   "outputs": [],
   "source": [
    "quartiles = pd.qcut(nile.volume, \n",
    "            np.linspace(0,1,5), \n",
    "            labels=['Q1', 'Q2', 'Q3', 'Q4'])\n",
    "quartiles.name = 'quartile'\n",
    "#print(quartiles)\n",
    "#print(type(quartiles))\n",
    "df = pd.concat([nile, quartiles], axis=1)\n",
    "#print(df)"
   ]
  },
  {
   "cell_type": "code",
   "execution_count": 31,
   "metadata": {},
   "outputs": [
    {
     "data": {
      "text/html": [
       "<div>\n",
       "<style scoped>\n",
       "    .dataframe tbody tr th:only-of-type {\n",
       "        vertical-align: middle;\n",
       "    }\n",
       "\n",
       "    .dataframe tbody tr th {\n",
       "        vertical-align: top;\n",
       "    }\n",
       "\n",
       "    .dataframe thead th {\n",
       "        text-align: right;\n",
       "    }\n",
       "</style>\n",
       "<table border=\"1\" class=\"dataframe\">\n",
       "  <thead>\n",
       "    <tr style=\"text-align: right;\">\n",
       "      <th></th>\n",
       "      <th>volume</th>\n",
       "    </tr>\n",
       "    <tr>\n",
       "      <th>quartile</th>\n",
       "      <th></th>\n",
       "    </tr>\n",
       "  </thead>\n",
       "  <tbody>\n",
       "    <tr>\n",
       "      <td>Q1</td>\n",
       "      <td>18101</td>\n",
       "    </tr>\n",
       "    <tr>\n",
       "      <td>Q2</td>\n",
       "      <td>20999</td>\n",
       "    </tr>\n",
       "    <tr>\n",
       "      <td>Q3</td>\n",
       "      <td>23995</td>\n",
       "    </tr>\n",
       "    <tr>\n",
       "      <td>Q4</td>\n",
       "      <td>28840</td>\n",
       "    </tr>\n",
       "  </tbody>\n",
       "</table>\n",
       "</div>"
      ],
      "text/plain": [
       "          volume\n",
       "quartile        \n",
       "Q1         18101\n",
       "Q2         20999\n",
       "Q3         23995\n",
       "Q4         28840"
      ]
     },
     "execution_count": 31,
     "metadata": {},
     "output_type": "execute_result"
    }
   ],
   "source": [
    "df.groupby('quartile').sum()"
   ]
  },
  {
   "cell_type": "markdown",
   "metadata": {},
   "source": [
    "SQL solution here"
   ]
  },
  {
   "cell_type": "code",
   "execution_count": 32,
   "metadata": {
    "scrolled": false
   },
   "outputs": [
    {
     "name": "stdout",
     "output_type": "stream",
     "text": [
      " * sqlite://\n",
      "Done.\n"
     ]
    },
    {
     "data": {
      "text/html": [
       "<table>\n",
       "    <tr>\n",
       "        <th>quartile</th>\n",
       "        <th>sum_volume</th>\n",
       "    </tr>\n",
       "    <tr>\n",
       "        <td>1</td>\n",
       "        <td>18101</td>\n",
       "    </tr>\n",
       "    <tr>\n",
       "        <td>2</td>\n",
       "        <td>20999</td>\n",
       "    </tr>\n",
       "    <tr>\n",
       "        <td>3</td>\n",
       "        <td>23995</td>\n",
       "    </tr>\n",
       "    <tr>\n",
       "        <td>4</td>\n",
       "        <td>28840</td>\n",
       "    </tr>\n",
       "</table>"
      ],
      "text/plain": [
       "[(1, 18101), (2, 20999), (3, 23995), (4, 28840)]"
      ]
     },
     "execution_count": 32,
     "metadata": {},
     "output_type": "execute_result"
    }
   ],
   "source": [
    "%%sql\n",
    "\n",
    "SELECT DISTINCT quartile, SUM(volume) as sum_volume\n",
    "FROM (\n",
    "SELECT volume, NTILE(4)\n",
    "OVER (\n",
    "    ORDER BY volume \n",
    ") AS quartile\n",
    "FROM nile\n",
    ")\n",
    "GROUP BY quartile"
   ]
  },
  {
   "cell_type": "markdown",
   "metadata": {},
   "source": [
    "**3**. (50 points)\n",
    "\n",
    "Convert the flat file data in `h04q03.csv` into a well-structured relational database (i.e. at least in 3NF) in SQLite3 as `ho4q03.db`. Note - salary information is confidential and should be kept in a separate table from other personal data.\n",
    "\n",
    "- Use only `pandas` operations.\n",
    "- Do not make use of SQL line or cell magic"
   ]
  },
  {
   "cell_type": "code",
   "execution_count": 5,
   "metadata": {
    "scrolled": true
   },
   "outputs": [
    {
     "data": {
      "text/html": [
       "<div>\n",
       "<style scoped>\n",
       "    .dataframe tbody tr th:only-of-type {\n",
       "        vertical-align: middle;\n",
       "    }\n",
       "\n",
       "    .dataframe tbody tr th {\n",
       "        vertical-align: top;\n",
       "    }\n",
       "\n",
       "    .dataframe thead th {\n",
       "        text-align: right;\n",
       "    }\n",
       "</style>\n",
       "<table border=\"1\" class=\"dataframe\">\n",
       "  <thead>\n",
       "    <tr style=\"text-align: right;\">\n",
       "      <th></th>\n",
       "      <th>name</th>\n",
       "      <th>gender</th>\n",
       "      <th>age</th>\n",
       "      <th>height</th>\n",
       "      <th>weight</th>\n",
       "      <th>salary</th>\n",
       "      <th>nationality</th>\n",
       "      <th>code</th>\n",
       "      <th>country</th>\n",
       "      <th>language1</th>\n",
       "      <th>language2</th>\n",
       "      <th>language3</th>\n",
       "      <th>first</th>\n",
       "      <th>last</th>\n",
       "    </tr>\n",
       "  </thead>\n",
       "  <tbody>\n",
       "    <tr>\n",
       "      <td>0</td>\n",
       "      <td>Aaron Alexander</td>\n",
       "      <td>Male</td>\n",
       "      <td>54</td>\n",
       "      <td>1.70</td>\n",
       "      <td>90</td>\n",
       "      <td>151000</td>\n",
       "      <td>British</td>\n",
       "      <td>GB</td>\n",
       "      <td>United Kingdom</td>\n",
       "      <td>Haskell</td>\n",
       "      <td>NaN</td>\n",
       "      <td>NaN</td>\n",
       "      <td>Aaron</td>\n",
       "      <td>Alexander</td>\n",
       "    </tr>\n",
       "    <tr>\n",
       "      <td>1</td>\n",
       "      <td>Aaron Kirby</td>\n",
       "      <td>Male</td>\n",
       "      <td>59</td>\n",
       "      <td>1.69</td>\n",
       "      <td>43</td>\n",
       "      <td>80000</td>\n",
       "      <td>Spanish</td>\n",
       "      <td>SP</td>\n",
       "      <td>Spain</td>\n",
       "      <td>Falcon</td>\n",
       "      <td>haXe</td>\n",
       "      <td>GNU Octave</td>\n",
       "      <td>Aaron</td>\n",
       "      <td>Kirby</td>\n",
       "    </tr>\n",
       "    <tr>\n",
       "      <td>2</td>\n",
       "      <td>Abram Allen</td>\n",
       "      <td>Male</td>\n",
       "      <td>41</td>\n",
       "      <td>1.70</td>\n",
       "      <td>44</td>\n",
       "      <td>75000</td>\n",
       "      <td>Italian</td>\n",
       "      <td>IT</td>\n",
       "      <td>Italy</td>\n",
       "      <td>TypeScript</td>\n",
       "      <td>NaN</td>\n",
       "      <td>NaN</td>\n",
       "      <td>Abram</td>\n",
       "      <td>Allen</td>\n",
       "    </tr>\n",
       "    <tr>\n",
       "      <td>3</td>\n",
       "      <td>Abram Boyer</td>\n",
       "      <td>Male</td>\n",
       "      <td>45</td>\n",
       "      <td>1.64</td>\n",
       "      <td>68</td>\n",
       "      <td>76000</td>\n",
       "      <td>Italian</td>\n",
       "      <td>IT</td>\n",
       "      <td>Italy</td>\n",
       "      <td>Lua</td>\n",
       "      <td>Falcon</td>\n",
       "      <td>Io</td>\n",
       "      <td>Abram</td>\n",
       "      <td>Boyer</td>\n",
       "    </tr>\n",
       "    <tr>\n",
       "      <td>4</td>\n",
       "      <td>Adaline Barry</td>\n",
       "      <td>Female</td>\n",
       "      <td>54</td>\n",
       "      <td>1.87</td>\n",
       "      <td>58</td>\n",
       "      <td>122000</td>\n",
       "      <td>Uruguayan</td>\n",
       "      <td>UY</td>\n",
       "      <td>Uruguay</td>\n",
       "      <td>Racket</td>\n",
       "      <td>NaN</td>\n",
       "      <td>NaN</td>\n",
       "      <td>Adaline</td>\n",
       "      <td>Barry</td>\n",
       "    </tr>\n",
       "  </tbody>\n",
       "</table>\n",
       "</div>"
      ],
      "text/plain": [
       "              name  gender  age  height  weight  salary nationality code  \\\n",
       "0  Aaron Alexander    Male   54    1.70      90  151000     British   GB   \n",
       "1      Aaron Kirby    Male   59    1.69      43   80000     Spanish   SP   \n",
       "2      Abram Allen    Male   41    1.70      44   75000     Italian   IT   \n",
       "3      Abram Boyer    Male   45    1.64      68   76000     Italian   IT   \n",
       "4    Adaline Barry  Female   54    1.87      58  122000   Uruguayan   UY   \n",
       "\n",
       "          country   language1 language2   language3    first       last  \n",
       "0  United Kingdom     Haskell       NaN         NaN    Aaron  Alexander  \n",
       "1           Spain      Falcon      haXe  GNU Octave    Aaron      Kirby  \n",
       "2           Italy  TypeScript       NaN         NaN    Abram      Allen  \n",
       "3           Italy         Lua    Falcon          Io    Abram      Boyer  \n",
       "4         Uruguay      Racket       NaN         NaN  Adaline      Barry  "
      ]
     },
     "execution_count": 5,
     "metadata": {},
     "output_type": "execute_result"
    }
   ],
   "source": [
    "import pandas as pd\n",
    "import numpy as np\n",
    "import random\n",
    "import pandas_explode \n",
    "#import explode\n",
    "\n",
    "df = pd.read_csv('h04q03.csv')\n",
    "df.head()"
   ]
  },
  {
   "cell_type": "code",
   "execution_count": 6,
   "metadata": {},
   "outputs": [
    {
     "data": {
      "text/plain": [
       "Index(['name', 'gender', 'age', 'height', 'weight', 'salary', 'nationality',\n",
       "       'code', 'country', 'language1', 'language2', 'language3', 'first',\n",
       "       'last'],\n",
       "      dtype='object')"
      ]
     },
     "execution_count": 6,
     "metadata": {},
     "output_type": "execute_result"
    }
   ],
   "source": [
    "df.columns"
   ]
  },
  {
   "cell_type": "markdown",
   "metadata": {},
   "source": [
    "1) We'll create a table including only languages and the complete name as the primary key. \n"
   ]
  },
  {
   "cell_type": "code",
   "execution_count": 35,
   "metadata": {},
   "outputs": [
    {
     "data": {
      "text/html": [
       "<div>\n",
       "<style scoped>\n",
       "    .dataframe tbody tr th:only-of-type {\n",
       "        vertical-align: middle;\n",
       "    }\n",
       "\n",
       "    .dataframe tbody tr th {\n",
       "        vertical-align: top;\n",
       "    }\n",
       "\n",
       "    .dataframe thead th {\n",
       "        text-align: right;\n",
       "    }\n",
       "</style>\n",
       "<table border=\"1\" class=\"dataframe\">\n",
       "  <thead>\n",
       "    <tr style=\"text-align: right;\">\n",
       "      <th></th>\n",
       "      <th>name</th>\n",
       "      <th>language_num</th>\n",
       "      <th>language</th>\n",
       "    </tr>\n",
       "  </thead>\n",
       "  <tbody>\n",
       "    <tr>\n",
       "      <td>0</td>\n",
       "      <td>Aaron Alexander</td>\n",
       "      <td>1</td>\n",
       "      <td>Haskell</td>\n",
       "    </tr>\n",
       "    <tr>\n",
       "      <td>1</td>\n",
       "      <td>Aaron Kirby</td>\n",
       "      <td>1</td>\n",
       "      <td>Falcon</td>\n",
       "    </tr>\n",
       "    <tr>\n",
       "      <td>2</td>\n",
       "      <td>Abram Allen</td>\n",
       "      <td>1</td>\n",
       "      <td>TypeScript</td>\n",
       "    </tr>\n",
       "    <tr>\n",
       "      <td>3</td>\n",
       "      <td>Abram Boyer</td>\n",
       "      <td>1</td>\n",
       "      <td>Lua</td>\n",
       "    </tr>\n",
       "    <tr>\n",
       "      <td>4</td>\n",
       "      <td>Adaline Barry</td>\n",
       "      <td>1</td>\n",
       "      <td>Racket</td>\n",
       "    </tr>\n",
       "  </tbody>\n",
       "</table>\n",
       "</div>"
      ],
      "text/plain": [
       "              name language_num    language\n",
       "0  Aaron Alexander            1     Haskell\n",
       "1      Aaron Kirby            1      Falcon\n",
       "2      Abram Allen            1  TypeScript\n",
       "3      Abram Boyer            1         Lua\n",
       "4    Adaline Barry            1      Racket"
      ]
     },
     "execution_count": 35,
     "metadata": {},
     "output_type": "execute_result"
    }
   ],
   "source": [
    "# No repeting columns\n",
    "df_1 = pd.melt(df[['name','language1','language2','language3']], \n",
    "              id_vars=['name'], \n",
    "             var_name='language_num', \n",
    "             value_name='language')\n",
    "\n",
    "df_1.language_num = df_1.language_num.str.extract('.*(\\d+)$')\n",
    "\n",
    "# Drop duplicates (if any)\n",
    "df_1.drop_duplicates()\n",
    "\n",
    "df_1.head()"
   ]
  },
  {
   "cell_type": "markdown",
   "metadata": {},
   "source": [
    "2) Now, I'll create a table including only name and the salary since it is confidential information"
   ]
  },
  {
   "cell_type": "code",
   "execution_count": 36,
   "metadata": {
    "scrolled": true
   },
   "outputs": [
    {
     "data": {
      "text/html": [
       "<div>\n",
       "<style scoped>\n",
       "    .dataframe tbody tr th:only-of-type {\n",
       "        vertical-align: middle;\n",
       "    }\n",
       "\n",
       "    .dataframe tbody tr th {\n",
       "        vertical-align: top;\n",
       "    }\n",
       "\n",
       "    .dataframe thead th {\n",
       "        text-align: right;\n",
       "    }\n",
       "</style>\n",
       "<table border=\"1\" class=\"dataframe\">\n",
       "  <thead>\n",
       "    <tr style=\"text-align: right;\">\n",
       "      <th></th>\n",
       "      <th>name</th>\n",
       "      <th>salary</th>\n",
       "    </tr>\n",
       "  </thead>\n",
       "  <tbody>\n",
       "    <tr>\n",
       "      <td>0</td>\n",
       "      <td>Aaron Alexander</td>\n",
       "      <td>151000</td>\n",
       "    </tr>\n",
       "    <tr>\n",
       "      <td>1</td>\n",
       "      <td>Aaron Kirby</td>\n",
       "      <td>80000</td>\n",
       "    </tr>\n",
       "    <tr>\n",
       "      <td>2</td>\n",
       "      <td>Abram Allen</td>\n",
       "      <td>75000</td>\n",
       "    </tr>\n",
       "    <tr>\n",
       "      <td>3</td>\n",
       "      <td>Abram Boyer</td>\n",
       "      <td>76000</td>\n",
       "    </tr>\n",
       "    <tr>\n",
       "      <td>4</td>\n",
       "      <td>Adaline Barry</td>\n",
       "      <td>122000</td>\n",
       "    </tr>\n",
       "  </tbody>\n",
       "</table>\n",
       "</div>"
      ],
      "text/plain": [
       "              name  salary\n",
       "0  Aaron Alexander  151000\n",
       "1      Aaron Kirby   80000\n",
       "2      Abram Allen   75000\n",
       "3      Abram Boyer   76000\n",
       "4    Adaline Barry  122000"
      ]
     },
     "execution_count": 36,
     "metadata": {},
     "output_type": "execute_result"
    }
   ],
   "source": [
    "# Keep only the salary information and the primary key \"name\"\n",
    "\n",
    "df_2 = df[['name','salary']]\n",
    "\n",
    "# Drop duplicates (if any)\n",
    "df_2.drop_duplicates()\n",
    "\n",
    "df_2.head()"
   ]
  },
  {
   "cell_type": "markdown",
   "metadata": {},
   "source": [
    "3) Now, to avoid codependencies I will create a table that includes only name, nationality, code, and country since code and country depends solely on the nationality."
   ]
  },
  {
   "cell_type": "code",
   "execution_count": 37,
   "metadata": {},
   "outputs": [
    {
     "data": {
      "text/html": [
       "<div>\n",
       "<style scoped>\n",
       "    .dataframe tbody tr th:only-of-type {\n",
       "        vertical-align: middle;\n",
       "    }\n",
       "\n",
       "    .dataframe tbody tr th {\n",
       "        vertical-align: top;\n",
       "    }\n",
       "\n",
       "    .dataframe thead th {\n",
       "        text-align: right;\n",
       "    }\n",
       "</style>\n",
       "<table border=\"1\" class=\"dataframe\">\n",
       "  <thead>\n",
       "    <tr style=\"text-align: right;\">\n",
       "      <th></th>\n",
       "      <th>name</th>\n",
       "      <th>nationality</th>\n",
       "      <th>code</th>\n",
       "      <th>country</th>\n",
       "    </tr>\n",
       "  </thead>\n",
       "  <tbody>\n",
       "    <tr>\n",
       "      <td>0</td>\n",
       "      <td>Aaron Alexander</td>\n",
       "      <td>British</td>\n",
       "      <td>GB</td>\n",
       "      <td>United Kingdom</td>\n",
       "    </tr>\n",
       "    <tr>\n",
       "      <td>1</td>\n",
       "      <td>Aaron Kirby</td>\n",
       "      <td>Spanish</td>\n",
       "      <td>SP</td>\n",
       "      <td>Spain</td>\n",
       "    </tr>\n",
       "    <tr>\n",
       "      <td>2</td>\n",
       "      <td>Abram Allen</td>\n",
       "      <td>Italian</td>\n",
       "      <td>IT</td>\n",
       "      <td>Italy</td>\n",
       "    </tr>\n",
       "    <tr>\n",
       "      <td>3</td>\n",
       "      <td>Abram Boyer</td>\n",
       "      <td>Italian</td>\n",
       "      <td>IT</td>\n",
       "      <td>Italy</td>\n",
       "    </tr>\n",
       "    <tr>\n",
       "      <td>4</td>\n",
       "      <td>Adaline Barry</td>\n",
       "      <td>Uruguayan</td>\n",
       "      <td>UY</td>\n",
       "      <td>Uruguay</td>\n",
       "    </tr>\n",
       "  </tbody>\n",
       "</table>\n",
       "</div>"
      ],
      "text/plain": [
       "              name nationality code         country\n",
       "0  Aaron Alexander     British   GB  United Kingdom\n",
       "1      Aaron Kirby     Spanish   SP           Spain\n",
       "2      Abram Allen     Italian   IT           Italy\n",
       "3      Abram Boyer     Italian   IT           Italy\n",
       "4    Adaline Barry   Uruguayan   UY         Uruguay"
      ]
     },
     "execution_count": 37,
     "metadata": {},
     "output_type": "execute_result"
    }
   ],
   "source": [
    "df_3 = df[['name', 'nationality', 'code', 'country']]\n",
    "\n",
    "# Drop duplicates (if any)\n",
    "df_3.drop_duplicates()\n",
    "\n",
    "df_3.head()"
   ]
  },
  {
   "cell_type": "markdown",
   "metadata": {},
   "source": [
    "4) Finally, I will create a table with the rest of the variables except last and first name split in two different to avoid repetition. All tables have \"name\" as the primary key."
   ]
  },
  {
   "cell_type": "code",
   "execution_count": 38,
   "metadata": {},
   "outputs": [
    {
     "data": {
      "text/html": [
       "<div>\n",
       "<style scoped>\n",
       "    .dataframe tbody tr th:only-of-type {\n",
       "        vertical-align: middle;\n",
       "    }\n",
       "\n",
       "    .dataframe tbody tr th {\n",
       "        vertical-align: top;\n",
       "    }\n",
       "\n",
       "    .dataframe thead th {\n",
       "        text-align: right;\n",
       "    }\n",
       "</style>\n",
       "<table border=\"1\" class=\"dataframe\">\n",
       "  <thead>\n",
       "    <tr style=\"text-align: right;\">\n",
       "      <th></th>\n",
       "      <th>name</th>\n",
       "      <th>gender</th>\n",
       "      <th>age</th>\n",
       "      <th>height</th>\n",
       "      <th>weight</th>\n",
       "    </tr>\n",
       "  </thead>\n",
       "  <tbody>\n",
       "    <tr>\n",
       "      <td>0</td>\n",
       "      <td>Aaron Alexander</td>\n",
       "      <td>Male</td>\n",
       "      <td>54</td>\n",
       "      <td>1.70</td>\n",
       "      <td>90</td>\n",
       "    </tr>\n",
       "    <tr>\n",
       "      <td>1</td>\n",
       "      <td>Aaron Kirby</td>\n",
       "      <td>Male</td>\n",
       "      <td>59</td>\n",
       "      <td>1.69</td>\n",
       "      <td>43</td>\n",
       "    </tr>\n",
       "    <tr>\n",
       "      <td>2</td>\n",
       "      <td>Abram Allen</td>\n",
       "      <td>Male</td>\n",
       "      <td>41</td>\n",
       "      <td>1.70</td>\n",
       "      <td>44</td>\n",
       "    </tr>\n",
       "    <tr>\n",
       "      <td>3</td>\n",
       "      <td>Abram Boyer</td>\n",
       "      <td>Male</td>\n",
       "      <td>45</td>\n",
       "      <td>1.64</td>\n",
       "      <td>68</td>\n",
       "    </tr>\n",
       "    <tr>\n",
       "      <td>4</td>\n",
       "      <td>Adaline Barry</td>\n",
       "      <td>Female</td>\n",
       "      <td>54</td>\n",
       "      <td>1.87</td>\n",
       "      <td>58</td>\n",
       "    </tr>\n",
       "  </tbody>\n",
       "</table>\n",
       "</div>"
      ],
      "text/plain": [
       "              name  gender  age  height  weight\n",
       "0  Aaron Alexander    Male   54    1.70      90\n",
       "1      Aaron Kirby    Male   59    1.69      43\n",
       "2      Abram Allen    Male   41    1.70      44\n",
       "3      Abram Boyer    Male   45    1.64      68\n",
       "4    Adaline Barry  Female   54    1.87      58"
      ]
     },
     "execution_count": 38,
     "metadata": {},
     "output_type": "execute_result"
    }
   ],
   "source": [
    "df_4 = df[['name', 'gender', 'age', 'height', 'weight']]\n",
    "\n",
    "# Drop duplicates (if any)\n",
    "df_4.drop_duplicates()\n",
    "df_4.head()"
   ]
  },
  {
   "cell_type": "code",
   "execution_count": 39,
   "metadata": {},
   "outputs": [],
   "source": [
    "from sqlalchemy import create_engine\n",
    "\n",
    "engine = create_engine('sqlite:///ho4q03.db', echo=False)\n",
    "\n",
    "df_1.to_sql('df_1',if_exists='replace', con=engine)\n",
    "df_2.to_sql('df_2',if_exists='replace', con=engine)\n",
    "df_3.to_sql('df_3',if_exists='replace', con=engine)\n",
    "df_4.to_sql('df_4',if_exists='replace', con=engine)"
   ]
  }
 ],
 "metadata": {
  "kernelspec": {
   "display_name": "Python 3",
   "language": "python",
   "name": "python3"
  },
  "language_info": {
   "codemirror_mode": {
    "name": "ipython",
    "version": 3
   },
   "file_extension": ".py",
   "mimetype": "text/x-python",
   "name": "python",
   "nbconvert_exporter": "python",
   "pygments_lexer": "ipython3",
   "version": "3.6.4"
  }
 },
 "nbformat": 4,
 "nbformat_minor": 2
}
